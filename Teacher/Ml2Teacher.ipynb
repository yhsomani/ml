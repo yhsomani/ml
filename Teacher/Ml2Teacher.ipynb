{
  "cells": [
    {
      "cell_type": "code",
      "execution_count": null,
      "id": "dedicated-marker",
      "metadata": {
        "id": "dedicated-marker"
      },
      "outputs": [],
      "source": [
        "# Assignment 2 Regression model\n",
        "#Download temperature data from below link. https://www.kaggle.com/venky73/temperatures￾of-india?select=temperatures.csv\n",
        "#This data consists of temperatures of INDIA averaging the temperatures of all places month\n",
        "#wise. Temperatures values are recorded in CELSIUS\n",
        "#a. Apply Linear Regression using suitable library function and predict the Month-wise\n",
        "#b. Assessthe performance of regression models using MSE, MAE and R-Square metrics\n",
        "#c. Visualize simple regression model.\n",
        "\n",
        "# m = n * sum(x*y)- sum(x) * sum(y) /  n * sum(x^2) - (sum (x)) ^ 2\n",
        "\n",
        "# c = sum(y)- m * sum(x) / n\n",
        "\n"
      ]
    },
    {
      "cell_type": "code",
      "execution_count": null,
      "id": "catholic-wilson",
      "metadata": {
        "id": "catholic-wilson",
        "outputId": "126275aa-e138-49fd-fa5e-3fb380a624c3",
        "colab": {
          "base_uri": "https://localhost:8080/",
          "height": 36
        }
      },
      "outputs": [
        {
          "output_type": "execute_result",
          "data": {
            "text/plain": [
              "'/content'"
            ],
            "application/vnd.google.colaboratory.intrinsic+json": {
              "type": "string"
            }
          },
          "metadata": {},
          "execution_count": 2
        }
      ],
      "source": [
        "import matplotlib.pyplot as plt\n",
        "import pandas as pd\n",
        "from operator import mul\n",
        "import numpy as np\n",
        "import os\n",
        "os.getcwd()"
      ]
    },
    {
      "cell_type": "code",
      "execution_count": null,
      "id": "planned-second",
      "metadata": {
        "id": "planned-second"
      },
      "outputs": [],
      "source": [
        "def compute_regcoef(x,y):\n",
        "    n = len(x)\n",
        "    sumxy =  sum(list(map(mul,x,y)))\n",
        "    num =  n* sumxy - sum(x) * sum(y)\n",
        "    sumxx= sum(list(map(mul,x,x)))\n",
        "    denom = n*sumxx - sum(x)*sum(x)\n",
        "    m= num/denom\n",
        "    c = ( sum(y) - m* sum(x))/n\n",
        "    \n",
        "    return(c,m)\n",
        "    "
      ]
    },
    {
      "cell_type": "code",
      "execution_count": null,
      "id": "linear-frontier",
      "metadata": {
        "id": "linear-frontier"
      },
      "outputs": [],
      "source": [
        "def plot_regline(x,y,b):\n",
        "    plt.scatter(x,y,color='b',marker='o',s=30)\n",
        "    # y = m*x + c \n",
        "    y_pred = np.float_(x)*b[1] + b[0]\n",
        "    plt.plot(x,y_pred,color='g')\n",
        "    plt.xlabel('X -Independent variable')\n",
        "    plt.ylabel('Y-Dependent variable')\n",
        "    plt.show()"
      ]
    },
    {
      "cell_type": "code",
      "execution_count": null,
      "id": "governing-forge",
      "metadata": {
        "id": "governing-forge",
        "outputId": "d664cf01-0579-4792-f54a-21941e6abe9a",
        "colab": {
          "base_uri": "https://localhost:8080/",
          "height": 314
        }
      },
      "outputs": [
        {
          "output_type": "stream",
          "name": "stdout",
          "text": [
            "intercept 0.0\n",
            "slope 1.0\n"
          ]
        },
        {
          "output_type": "display_data",
          "data": {
            "text/plain": [
              "<Figure size 432x288 with 1 Axes>"
            ],
            "image/png": "[encoded data removed]"
          },
          "metadata": {
            "needs_background": "light"
          }
        }
      ],
      "source": [
        "x=[1,2,3,4,5,6,7,8,9]\n",
        "y=[1,2,3,4,5,6,7,8,9]\n",
        "\n",
        "b=compute_regcoef(x,y)\n",
        "type(b)\n",
        "print('intercept',b[0])\n",
        "print('slope',b[1])\n",
        "plot_regline(x,y,b)\n",
        "\n"
      ]
    },
    {
      "cell_type": "code",
      "execution_count": null,
      "id": "provincial-hanging",
      "metadata": {
        "id": "provincial-hanging",
        "outputId": "beeb0b85-8efe-4b0d-f073-a4144e62ceff",
        "colab": {
          "base_uri": "https://localhost:8080/"
        }
      },
      "outputs": [
        {
          "output_type": "execute_result",
          "data": {
            "text/plain": [
              "Index(['Gender', 'Height', 'Weight'], dtype='object')"
            ]
          },
          "metadata": {},
          "execution_count": 6
        }
      ],
      "source": [
        "df = pd.read_csv('weight-height (1).csv')\n",
        "df.columns"
      ]
    },
    {
      "cell_type": "code",
      "execution_count": null,
      "id": "finite-apparel",
      "metadata": {
        "id": "finite-apparel",
        "outputId": "281daf61-2bb9-4524-a1c2-94a37ce34f36",
        "colab": {
          "base_uri": "https://localhost:8080/"
        }
      },
      "outputs": [
        {
          "output_type": "execute_result",
          "data": {
            "text/plain": [
              "Gender     object\n",
              "Height    float64\n",
              "Weight    float64\n",
              "dtype: object"
            ]
          },
          "metadata": {},
          "execution_count": 7
        }
      ],
      "source": [
        "df.dtypes"
      ]
    },
    {
      "cell_type": "code",
      "execution_count": null,
      "id": "stable-prophet",
      "metadata": {
        "id": "stable-prophet",
        "outputId": "65a63250-9efa-43f5-8aa4-3911b8bed8ad",
        "colab": {
          "base_uri": "https://localhost:8080/",
          "height": 314
        }
      },
      "outputs": [
        {
          "output_type": "stream",
          "name": "stdout",
          "text": [
            "intercept [-350.73719181]\n",
            "slope [7.71728764]\n"
          ]
        },
        {
          "output_type": "display_data",
          "data": {
            "text/plain": [
              "<Figure size 432x288 with 1 Axes>"
            ],
            "image/png": "[encoded data removed]"
          },
          "metadata": {
            "needs_background": "light"
          }
        }
      ],
      "source": [
        "X = df.iloc[:,1:2].values\n",
        "y=  df.iloc[:,2].values\n",
        "\n",
        "b=compute_regcoef(X,y)\n",
        "print('intercept',b[0])\n",
        "print('slope',b[1])\n",
        "plot_regline(X,y,b)"
      ]
    },
    {
      "cell_type": "code",
      "execution_count": null,
      "id": "sudden-integer",
      "metadata": {
        "id": "sudden-integer"
      },
      "outputs": [],
      "source": [
        "from sklearn.model_selection import train_test_split\n",
        "X_train,X_test,y_train,y_test=train_test_split(X,y,test_size=0.25,random_state=0)\n"
      ]
    },
    {
      "cell_type": "code",
      "execution_count": null,
      "id": "answering-hampshire",
      "metadata": {
        "id": "answering-hampshire",
        "outputId": "3ccc4398-120f-4755-92c3-11ae7218f9af",
        "colab": {
          "base_uri": "https://localhost:8080/"
        }
      },
      "outputs": [
        {
          "output_type": "execute_result",
          "data": {
            "text/plain": [
              "LinearRegression()"
            ]
          },
          "metadata": {},
          "execution_count": 10
        }
      ],
      "source": [
        "from sklearn.linear_model import LinearRegression\n",
        "regression = LinearRegression()\n",
        "regression.fit(X_train,y_train)"
      ]
    },
    {
      "cell_type": "code",
      "execution_count": null,
      "id": "sophisticated-champagne",
      "metadata": {
        "id": "sophisticated-champagne",
        "outputId": "112dea67-28c7-41c1-bc79-6b9dcd7d5034",
        "colab": {
          "base_uri": "https://localhost:8080/"
        }
      },
      "outputs": [
        {
          "output_type": "stream",
          "name": "stdout",
          "text": [
            "regression coefficient or slope of regression line [7.71833809]\n"
          ]
        }
      ],
      "source": [
        "m= regression.coef_\n",
        "print('regression coefficient or slope of regression line',m)"
      ]
    },
    {
      "cell_type": "code",
      "execution_count": null,
      "id": "effective-check",
      "metadata": {
        "id": "effective-check",
        "outputId": "14e5d93a-6e0f-4256-ff25-e036db540d37",
        "colab": {
          "base_uri": "https://localhost:8080/"
        }
      },
      "outputs": [
        {
          "output_type": "stream",
          "name": "stdout",
          "text": [
            "Intercept -350.8415809450646\n"
          ]
        }
      ],
      "source": [
        "c= regression.intercept_\n",
        "print('Intercept',c)"
      ]
    },
    {
      "cell_type": "code",
      "execution_count": null,
      "id": "tender-angel",
      "metadata": {
        "id": "tender-angel",
        "outputId": "82df89c5-7e20-44a9-b667-b29bbe74454b",
        "colab": {
          "base_uri": "https://localhost:8080/"
        }
      },
      "outputs": [
        {
          "output_type": "execute_result",
          "data": {
            "text/plain": [
              "numpy.ndarray"
            ]
          },
          "metadata": {},
          "execution_count": 13
        }
      ],
      "source": [
        "y_pred = regression.predict(X_test)\n",
        "type(y_pred)"
      ]
    },
    {
      "cell_type": "code",
      "execution_count": null,
      "id": "fixed-index",
      "metadata": {
        "id": "fixed-index"
      },
      "outputs": [],
      "source": [
        "df1 = pd.DataFrame({'Actual':y_test.flatten(),'Predicted y ': y_pred.flatten()})"
      ]
    },
    {
      "cell_type": "code",
      "execution_count": null,
      "id": "closed-annual",
      "metadata": {
        "id": "closed-annual",
        "outputId": "2879250a-8336-42d3-8665-4f5e811af637",
        "colab": {
          "base_uri": "https://localhost:8080/",
          "height": 424
        }
      },
      "outputs": [
        {
          "output_type": "execute_result",
          "data": {
            "text/plain": [
              "          Actual  Predicted y \n",
              "0     138.085796    148.719182\n",
              "1     187.363366    168.387776\n",
              "2     216.533191    224.336476\n",
              "3     131.761443    157.642640\n",
              "4     157.718438    149.664097\n",
              "...          ...           ...\n",
              "2495  121.094631    149.597631\n",
              "2496  207.493691    203.256212\n",
              "2497  169.634399    177.055419\n",
              "2498  169.459631    152.246924\n",
              "2499  123.628360    117.824241\n",
              "\n",
              "[2500 rows x 2 columns]"
            ],
            "text/html": [
              "\n",
              "  <div id=\"df-d89f7cf5-c7c6-4a58-ab79-8bea7badd3b2\">\n",
              "    <div class=\"colab-df-container\">\n",
              "      <div>\n",
              "<style scoped>\n",
              "    .dataframe tbody tr th:only-of-type {\n",
              "        vertical-align: middle;\n",
              "    }\n",
              "\n",
              "    .dataframe tbody tr th {\n",
              "        vertical-align: top;\n",
              "    }\n",
              "\n",
              "    .dataframe thead th {\n",
              "        text-align: right;\n",
              "    }\n",
              "</style>\n",
              "<table border=\"1\" class=\"dataframe\">\n",
              "  <thead>\n",
              "    <tr style=\"text-align: right;\">\n",
              "      <th></th>\n",
              "      <th>Actual</th>\n",
              "      <th>Predicted y</th>\n",
              "    </tr>\n",
              "  </thead>\n",
              "  <tbody>\n",
              "    <tr>\n",
              "      <th>0</th>\n",
              "      <td>138.085796</td>\n",
              "      <td>148.719182</td>\n",
              "    </tr>\n",
              "    <tr>\n",
              "      <th>1</th>\n",
              "      <td>187.363366</td>\n",
              "      <td>168.387776</td>\n",
              "    </tr>\n",
              "    <tr>\n",
              "      <th>2</th>\n",
              "      <td>216.533191</td>\n",
              "      <td>224.336476</td>\n",
              "    </tr>\n",
              "    <tr>\n",
              "      <th>3</th>\n",
              "      <td>131.761443</td>\n",
              "      <td>157.642640</td>\n",
              "    </tr>\n",
              "    <tr>\n",
              "      <th>4</th>\n",
              "      <td>157.718438</td>\n",
              "      <td>149.664097</td>\n",
              "    </tr>\n",
              "    <tr>\n",
              "      <th>...</th>\n",
              "      <td>...</td>\n",
              "      <td>...</td>\n",
              "    </tr>\n",
              "    <tr>\n",
              "      <th>2495</th>\n",
              "      <td>121.094631</td>\n",
              "      <td>149.597631</td>\n",
              "    </tr>\n",
              "    <tr>\n",
              "      <th>2496</th>\n",
              "      <td>207.493691</td>\n",
              "      <td>203.256212</td>\n",
              "    </tr>\n",
              "    <tr>\n",
              "      <th>2497</th>\n",
              "      <td>169.634399</td>\n",
              "      <td>177.055419</td>\n",
              "    </tr>\n",
              "    <tr>\n",
              "      <th>2498</th>\n",
              "      <td>169.459631</td>\n",
              "      <td>152.246924</td>\n",
              "    </tr>\n",
              "    <tr>\n",
              "      <th>2499</th>\n",
              "      <td>123.628360</td>\n",
              "      <td>117.824241</td>\n",
              "    </tr>\n",
              "  </tbody>\n",
              "</table>\n",
              "<p>2500 rows × 2 columns</p>\n",
              "</div>\n",
              "      <button class=\"colab-df-convert\" onclick=\"convertToInteractive('df-d89f7cf5-c7c6-4a58-ab79-8bea7badd3b2')\"\n",
              "              title=\"Convert this dataframe to an interactive table.\"\n",
              "              style=\"display:none;\">\n",
              "        \n",
              "  <svg xmlns=\"http://www.w3.org/2000/svg\" height=\"24px\"viewBox=\"0 0 24 24\"\n",
              "       width=\"24px\">\n",
              "    <path d=\"M0 0h24v24H0V0z\" fill=\"none\"/>\n",
              "    <path d=\"M18.56 5.44l.94 2.06.94-2.06 2.06-.94-2.06-.94-.94-2.06-.94 2.06-2.06.94zm-11 1L8.5 8.5l.94-2.06 2.06-.94-2.06-.94L8.5 2.5l-.94 2.06-2.06.94zm10 10l.94 2.06.94-2.06 2.06-.94-2.06-.94-.94-2.06-.94 2.06-2.06.94z\"/><path d=\"M17.41 7.96l-1.37-1.37c-.4-.4-.92-.59-1.43-.59-.52 0-1.04.2-1.43.59L10.3 9.45l-7.72 7.72c-.78.78-.78 2.05 0 2.83L4 21.41c.39.39.9.59 1.41.59.51 0 1.02-.2 1.41-.59l7.78-7.78 2.81-2.81c.8-.78.8-2.07 0-2.86zM5.41 20L4 18.59l7.72-7.72 1.47 1.35L5.41 20z\"/>\n",
              "  </svg>\n",
              "      </button>\n",
              "      \n",
              "  <style>\n",
              "    .colab-df-container {\n",
              "      display:flex;\n",
              "      flex-wrap:wrap;\n",
              "      gap: 12px;\n",
              "    }\n",
              "\n",
              "    .colab-df-convert {\n",
              "      background-color: #E8F0FE;\n",
              "      border: none;\n",
              "      border-radius: 50%;\n",
              "      cursor: pointer;\n",
              "      display: none;\n",
              "      fill: #1967D2;\n",
              "      height: 32px;\n",
              "      padding: 0 0 0 0;\n",
              "      width: 32px;\n",
              "    }\n",
              "\n",
              "    .colab-df-convert:hover {\n",
              "      background-color: #E2EBFA;\n",
              "      box-shadow: 0px 1px 2px rgba(60, 64, 67, 0.3), 0px 1px 3px 1px rgba(60, 64, 67, 0.15);\n",
              "      fill: #174EA6;\n",
              "    }\n",
              "\n",
              "    [theme=dark] .colab-df-convert {\n",
              "      background-color: #3B4455;\n",
              "      fill: #D2E3FC;\n",
              "    }\n",
              "\n",
              "    [theme=dark] .colab-df-convert:hover {\n",
              "      background-color: #434B5C;\n",
              "      box-shadow: 0px 1px 3px 1px rgba(0, 0, 0, 0.15);\n",
              "      filter: drop-shadow(0px 1px 2px rgba(0, 0, 0, 0.3));\n",
              "      fill: #FFFFFF;\n",
              "    }\n",
              "  </style>\n",
              "\n",
              "      <script>\n",
              "        const buttonEl =\n",
              "          document.querySelector('#df-d89f7cf5-c7c6-4a58-ab79-8bea7badd3b2 button.colab-df-convert');\n",
              "        buttonEl.style.display =\n",
              "          google.colab.kernel.accessAllowed ? 'block' : 'none';\n",
              "\n",
              "        async function convertToInteractive(key) {\n",
              "          const element = document.querySelector('#df-d89f7cf5-c7c6-4a58-ab79-8bea7badd3b2');\n",
              "          const dataTable =\n",
              "            await google.colab.kernel.invokeFunction('convertToInteractive',\n",
              "                                                     [key], {});\n",
              "          if (!dataTable) return;\n",
              "\n",
              "          const docLinkHtml = 'Like what you see? Visit the ' +\n",
              "            '<a target=\"_blank\" href=https://colab.research.google.com/notebooks/data_table.ipynb>data table notebook</a>'\n",
              "            + ' to learn more about interactive tables.';\n",
              "          element.innerHTML = '';\n",
              "          dataTable['output_type'] = 'display_data';\n",
              "          await google.colab.output.renderOutput(dataTable, element);\n",
              "          const docLink = document.createElement('div');\n",
              "          docLink.innerHTML = docLinkHtml;\n",
              "          element.appendChild(docLink);\n",
              "        }\n",
              "      </script>\n",
              "    </div>\n",
              "  </div>\n",
              "  "
            ]
          },
          "metadata": {},
          "execution_count": 15
        }
      ],
      "source": [
        "df1\n"
      ]
    },
    {
      "cell_type": "code",
      "execution_count": null,
      "id": "environmental-concrete",
      "metadata": {
        "id": "environmental-concrete",
        "outputId": "d55b2c83-727b-4e0f-ff4e-a18ee25c8c79",
        "colab": {
          "base_uri": "https://localhost:8080/"
        }
      },
      "outputs": [
        {
          "output_type": "execute_result",
          "data": {
            "text/plain": [
              "array([64.72387669])"
            ]
          },
          "metadata": {},
          "execution_count": 16
        }
      ],
      "source": [
        "X_test[0]"
      ]
    },
    {
      "cell_type": "code",
      "execution_count": null,
      "id": "contemporary-avatar",
      "metadata": {
        "id": "contemporary-avatar",
        "outputId": "8de002c4-c0d6-4bd2-dd63-2de879c94c5b",
        "colab": {
          "base_uri": "https://localhost:8080/"
        }
      },
      "outputs": [
        {
          "output_type": "execute_result",
          "data": {
            "text/plain": [
              "array([148.7191818])"
            ]
          },
          "metadata": {},
          "execution_count": 17
        }
      ],
      "source": [
        "predy0= 64.72387669 * m +c\n",
        "predy0"
      ]
    },
    {
      "cell_type": "code",
      "execution_count": null,
      "id": "accessory-development",
      "metadata": {
        "id": "accessory-development",
        "outputId": "57ccb390-7283-44cc-a4ab-7dc2bedf6c14",
        "colab": {
          "base_uri": "https://localhost:8080/",
          "height": 282
        }
      },
      "outputs": [
        {
          "output_type": "execute_result",
          "data": {
            "text/plain": [
              "[<matplotlib.lines.Line2D at 0x7fb6c3270bd0>]"
            ]
          },
          "metadata": {},
          "execution_count": 18
        },
        {
          "output_type": "display_data",
          "data": {
            "text/plain": [
              "<Figure size 432x288 with 1 Axes>"
            ],
            "image/png": "[encoded data removed]"
          },
          "metadata": {
            "needs_background": "light"
          }
        }
      ],
      "source": [
        "plt.scatter(X_test,y_test)\n",
        "plt.plot(X_test,y_pred,color='r')"
      ]
    },
    {
      "cell_type": "code",
      "execution_count": null,
      "id": "detailed-anxiety",
      "metadata": {
        "id": "detailed-anxiety",
        "outputId": "939f7028-a3e9-4504-b75e-df907ae5094c",
        "colab": {
          "base_uri": "https://localhost:8080/"
        }
      },
      "outputs": [
        {
          "output_type": "stream",
          "name": "stdout",
          "text": [
            "Mean Absolute error 9.81509183752961\n",
            "Mean squared error 151.46996027337104\n",
            "Root Mean squared error 12.307313284115711\n"
          ]
        }
      ],
      "source": [
        "from sklearn import metrics\n",
        "print('Mean Absolute error',metrics.mean_absolute_error(y_test,y_pred))\n",
        "print('Mean squared error',metrics.mean_squared_error(y_test,y_pred))\n",
        "print('Root Mean squared error',np.sqrt(metrics.mean_squared_error(y_test,y_pred)))"
      ]
    },
    {
      "cell_type": "code",
      "execution_count": null,
      "id": "freelance-salad",
      "metadata": {
        "id": "freelance-salad"
      },
      "outputs": [],
      "source": []
    }
  ],
  "metadata": {
    "kernelspec": {
      "display_name": "Python 3 (ipykernel)",
      "language": "python",
      "name": "python3"
    },
    "language_info": {
      "codemirror_mode": {
        "name": "ipython",
        "version": 3
      },
      "file_extension": ".py",
      "mimetype": "text/x-python",
      "name": "python",
      "nbconvert_exporter": "python",
      "pygments_lexer": "ipython3",
      "version": "3.10.4"
    },
    "colab": {
      "provenance": []
    }
  },
  "nbformat": 4,
  "nbformat_minor": 5
}