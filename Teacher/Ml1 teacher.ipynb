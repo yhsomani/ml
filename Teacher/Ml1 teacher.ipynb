{
 "cells": [
  {
   "cell_type": "code",
   "execution_count": 2,
   "metadata": {
    "id": "Jj3iMIyNUa25"
   },
   "outputs": [],
   "source": [
    "import os\n",
    "import pandas as pd\n",
    "import numpy as np\n",
    "import matplotlib.pyplot as plt\n",
    "import seaborn as sns\n",
    "%matplotlib inline"
   ]
  },
  {
   "cell_type": "markdown",
   "metadata": {
    "id": "fxDd3yFNzmrp"
   },
   "source": [
    "<ol>\n",
    "<li>age (Age in years)</li>\n",
    "<li>sex : (1 = male, 0 = female)</li>\n",
    "<li>cp (Chest Pain Type): [ 0: asymptomatic, 1: atypical angina, 2:non-anginal pain, 3: typical angina]\n",
    "<li>trestbps (Resting Blood Pressure in mm/hg )\n",
    "<li>chol (Serum Cholesterol in mg/dl)\n",
    "<li>fps (Fasting Blood Sugar > 120 mg/dl): [0 = no, 1 = yes]\n",
    "<li>restecg (Resting ECG): [0: showing probable or definite left ventricular hypertrophy by Estes’ criteria, 1: normal, 2: having ST-T wave abnormality]\n",
    "<li>thalach (maximum heart rate achieved)\n",
    "<li>exang (Exercise Induced Angina): [1 = yes, 0 = no]\n",
    "<li>oldpeak (ST depression induced by exercise relative to rest)\n",
    "<li>slope (the slope of the peak exercise ST segment): [0: downsloping; 1: flat; 2: upsloping]\n",
    "<li>ca [number of major vessels (0–3)\n",
    "<li>thal : [1 = normal, 2 = fixed defect, 3 = reversible defect]\n",
    "<li>target: [0 = disease, 1 = no disease]\n",
    "</ol>\n"
   ]
  },
  {
   "cell_type": "code",
   "execution_count": 4,
   "metadata": {
    "id": "BcTWWi2kR8zJ"
   },
   "outputs": [],
   "source": [
    "#url='/content/drive/MyDrive/heart.csv'\n",
    "import pandas as pd\n",
    "import numpy as np\n",
    "df=pd.read_csv('/home/siddhi/Heart.csv')"
   ]
  },
  {
   "cell_type": "code",
   "execution_count": null,
   "metadata": {
    "colab": {
     "base_uri": "https://localhost:8080/"
    },
    "id": "tvwXbkqOS7WM",
    "outputId": "060f7551-5481-4e74-d717-ecad4b589b56"
   },
   "outputs": [],
   "source": [
    "df.shape"
   ]
  },
  {
   "cell_type": "code",
   "execution_count": null,
   "metadata": {
    "colab": {
     "base_uri": "https://localhost:8080/"
    },
    "id": "wAoFrRYvS-mM",
    "outputId": "5d6cbbe3-cf6f-42e8-b8ed-3cfe8a5569c0"
   },
   "outputs": [],
   "source": [
    "df.info()"
   ]
  },
  {
   "cell_type": "markdown",
   "metadata": {
    "id": "7sWxoU6fzLJB"
   },
   "source": [
    "#Check data type"
   ]
  },
  {
   "cell_type": "markdown",
   "metadata": {
    "id": "7xQLDqKJ1Wmp"
   },
   "source": [
    "##The variables types are\n",
    "<ul>\n",
    "<li>Binary: sex, fbs, exang, target\n",
    "<li>Categorical: cp, restecg, slope, ca, thal\n",
    "<li>Continuous: age, trestbps, chol, thalac, oldpeak"
   ]
  },
  {
   "cell_type": "code",
   "execution_count": null,
   "metadata": {
    "colab": {
     "base_uri": "https://localhost:8080/"
    },
    "id": "3fryAI3IzNoZ",
    "outputId": "4941e5f4-783a-4d0d-b468-72efe5d33384"
   },
   "outputs": [],
   "source": [
    "df.dtypes"
   ]
  },
  {
   "cell_type": "code",
   "execution_count": null,
   "metadata": {
    "colab": {
     "base_uri": "https://localhost:8080/"
    },
    "id": "60WIyjr_zRjH",
    "outputId": "f8b99988-3f12-4b32-83dd-058a204530b4"
   },
   "outputs": [],
   "source": [
    "# to know unique values \n",
    "df.nunique()"
   ]
  },
  {
   "cell_type": "code",
   "execution_count": null,
   "metadata": {},
   "outputs": [],
   "source": [
    "df.head()"
   ]
  },
  {
   "cell_type": "code",
   "execution_count": null,
   "metadata": {
    "colab": {
     "base_uri": "https://localhost:8080/"
    },
    "id": "IM-bMcQU1354",
    "outputId": "d43e0527-d51a-4db1-883b-51fb9d9def5d"
   },
   "outputs": [],
   "source": [
    "# change the categorical type to categorical variables\n",
    "df['sex'] = df['sex'].astype('object')\n",
    "df['cp'] = df['cp'].astype('object')\n",
    "df['fbs'] = df['fbs'].astype('object')\n",
    "df['restecg'] = df['restecg'].astype('object')\n",
    "df['exang'] = df['exang'].astype('object')\n",
    "df['slope'] = df['slope'].astype('object')\n",
    "df['ca'] = df['ca'].astype('object')\n",
    "df['thal'] = df['thal'].astype('object')\n",
    "df.dtypes"
   ]
  },
  {
   "cell_type": "markdown",
   "metadata": {
    "id": "sF63X48k1n-6"
   },
   "source": [
    "#Error Correction"
   ]
  },
  {
   "cell_type": "markdown",
   "metadata": {
    "id": "3Tyb8Vpl1rOi"
   },
   "source": [
    "##Check for the data characters mistakes\n",
    "###feature ‘ca’ ranges from 0–3, however, df.nunique() listed 0–4. So lets find the ‘4’ and change them to NaN."
   ]
  },
  {
   "cell_type": "code",
   "execution_count": null,
   "metadata": {
    "colab": {
     "base_uri": "https://localhost:8080/"
    },
    "id": "4a1UQDZB1w4z",
    "outputId": "3a5dece4-736e-4ad2-aade-a51806ad6f97"
   },
   "outputs": [],
   "source": [
    "df['ca'].unique()"
   ]
  },
  {
   "cell_type": "code",
   "execution_count": null,
   "metadata": {
    "colab": {
     "base_uri": "https://localhost:8080/"
    },
    "id": "T9e_c39S2FGL",
    "outputId": "89649a27-825d-4c9d-a1d8-cc3a96a2fec5"
   },
   "outputs": [],
   "source": [
    "# to count the number in of each category decending order\n",
    "df.ca.value_counts()"
   ]
  },
  {
   "cell_type": "code",
   "execution_count": null,
   "metadata": {
    "colab": {
     "base_uri": "https://localhost:8080/",
     "height": 206
    },
    "id": "e8THf9GO2IrZ",
    "outputId": "a9fd0c3f-eee6-47cf-d345-e4bcfb12313a"
   },
   "outputs": [],
   "source": [
    "df[df['ca']==4]"
   ]
  },
  {
   "cell_type": "code",
   "execution_count": null,
   "metadata": {
    "id": "HvWnoE3g2kmk"
   },
   "outputs": [],
   "source": [
    "df.loc[df['ca']==4,'ca']=np.NaN"
   ]
  },
  {
   "cell_type": "code",
   "execution_count": null,
   "metadata": {
    "colab": {
     "base_uri": "https://localhost:8080/"
    },
    "id": "KZ-Ypbm-2zUa",
    "outputId": "2de6b97e-e34f-4d58-a257-18e001bf5734"
   },
   "outputs": [],
   "source": [
    "df['ca'].unique()"
   ]
  },
  {
   "cell_type": "markdown",
   "metadata": {
    "id": "u5dF0hO13OtA"
   },
   "source": [
    "### Feature ‘thal’ ranges from 1–3, however, df.nunique() listed 0–3. There are two values of ‘0’. So lets change them to NaN"
   ]
  },
  {
   "cell_type": "code",
   "execution_count": null,
   "metadata": {
    "colab": {
     "base_uri": "https://localhost:8080/"
    },
    "id": "hzWHKClX3TH3",
    "outputId": "4577ccfc-4895-493e-a9fc-30c9e5698a4e"
   },
   "outputs": [],
   "source": [
    "df.thal.value_counts()"
   ]
  },
  {
   "cell_type": "code",
   "execution_count": null,
   "metadata": {
    "id": "iqgvw7nu3pcx"
   },
   "outputs": [],
   "source": [
    "df.loc[df['thal']==0,'thal']=np.NaN"
   ]
  },
  {
   "cell_type": "code",
   "execution_count": null,
   "metadata": {
    "colab": {
     "base_uri": "https://localhost:8080/",
     "height": 49
    },
    "id": "TuLjJa3j4PHO",
    "outputId": "01d4fea5-6f35-47bd-b8e8-4fd9c87e4818"
   },
   "outputs": [],
   "source": [
    "df[df['thal']==0]"
   ]
  },
  {
   "cell_type": "code",
   "execution_count": null,
   "metadata": {
    "colab": {
     "base_uri": "https://localhost:8080/"
    },
    "id": "gYbR8NOk4guR",
    "outputId": "8dc1573b-02b9-458f-8f3a-5b5c3de8036e"
   },
   "outputs": [],
   "source": [
    "df['thal'].unique()"
   ]
  },
  {
   "cell_type": "markdown",
   "metadata": {
    "id": "y7vL9gPe4sMU"
   },
   "source": [
    "###Check for missing values and replace them"
   ]
  },
  {
   "cell_type": "code",
   "execution_count": null,
   "metadata": {
    "colab": {
     "base_uri": "https://localhost:8080/"
    },
    "id": "1q_QYyjJ4vgC",
    "outputId": "3dd68ba5-e704-47f6-f064-938c7b44f699"
   },
   "outputs": [],
   "source": [
    "df.isna().sum()"
   ]
  },
  {
   "cell_type": "code",
   "execution_count": null,
   "metadata": {
    "colab": {
     "base_uri": "https://localhost:8080/"
    },
    "id": "nQarg_fs46P-",
    "outputId": "43bec790-e589-4ee8-f559-85ccbaa91545"
   },
   "outputs": [],
   "source": [
    "df = df.fillna(df.median())\n",
    "df.isnull().sum()"
   ]
  },
  {
   "cell_type": "markdown",
   "metadata": {
    "id": "-2VtvKVF5abp"
   },
   "source": [
    "###Check for duplicate rows"
   ]
  },
  {
   "cell_type": "code",
   "execution_count": null,
   "metadata": {
    "colab": {
     "base_uri": "https://localhost:8080/"
    },
    "id": "OdsSfVHQ5cpm",
    "outputId": "5d6aeb77-a1fa-44b8-8e88-20992bcad723"
   },
   "outputs": [],
   "source": [
    "duplicated=df.duplicated().sum()\n",
    "if duplicated:\n",
    "  print(\"Duplicated rows :{}\".format(duplicated))\n",
    "else:\n",
    "  print(\"No duplicates\")\n"
   ]
  },
  {
   "cell_type": "code",
   "execution_count": null,
   "metadata": {
    "colab": {
     "base_uri": "https://localhost:8080/",
     "height": 112
    },
    "id": "FCBHsRcc50hl",
    "outputId": "b53fd66e-b9d1-4a90-b9b3-9f7e47902fb1"
   },
   "outputs": [],
   "source": [
    "duplicates=df[df.duplicated(keep=False)]\n",
    "duplicates.head()"
   ]
  },
  {
   "cell_type": "markdown",
   "metadata": {
    "id": "1zceXu818ArU"
   },
   "source": [
    "###statistical summary\n",
    "<ol>\n",
    "<li>check on the min and max value for the categorical variables (min-max). Sex (0–1), cp (0–3), fbs (0–1), restecg (0–2), exang (0–1), slope (0–2), ca (0–3), thal (0–3). \n",
    "<li>Observe the mean, std, 25% and 75% on the continuous variables."
   ]
  },
  {
   "cell_type": "code",
   "execution_count": null,
   "metadata": {
    "colab": {
     "base_uri": "https://localhost:8080/",
     "height": 364
    },
    "id": "OJJpcvaV8Ctm",
    "outputId": "154385d4-2be9-4bf1-e3c0-7e4e2cf90a02"
   },
   "outputs": [],
   "source": [
    "df.describe()"
   ]
  },
  {
   "cell_type": "markdown",
   "metadata": {
    "id": "_TqAIFln8kIK"
   },
   "source": [
    "####Before we plot the outliers, let's change the labeling for better visualization and interpretation."
   ]
  },
  {
   "cell_type": "code",
   "execution_count": null,
   "metadata": {
    "id": "BD9Hadfc8naS"
   },
   "outputs": [],
   "source": [
    "df['target'] = df.target.replace({1: \"Disease\", 0: \"No_disease\"})\n",
    "df['sex'] = df.sex.replace({1: \"Male\", 0: \"Female\"})\n",
    "df['cp'] = df.cp.replace({0: \"typical_angina\", \n",
    "                          1: \"atypical_angina\", \n",
    "                          2:\"non-anginal pain\",\n",
    "                          3: \"asymtomatic\"})\n",
    "df['exang'] = df.exang.replace({1: \"Yes\", 0: \"No\"})\n",
    "df['fbs'] = df.fbs.replace({1: \"True\", 0: \"False\"})\n",
    "df['slope'] = df.slope.replace({0: \"upsloping\", 1: \"flat\",2:\"downsloping\"})\n",
    "df['thal'] = df.thal.replace({1: \"fixed_defect\", 2: \"reversable_defect\", 3:\"normal\"})"
   ]
  },
  {
   "cell_type": "markdown",
   "metadata": {
    "id": "PNREAP9v8vNa"
   },
   "source": [
    "###Outliers Detection & Handling"
   ]
  },
  {
   "cell_type": "code",
   "execution_count": null,
   "metadata": {
    "colab": {
     "base_uri": "https://localhost:8080/",
     "height": 335
    },
    "id": "SqAoXzhD8zxi",
    "outputId": "59a3ad9e-2e62-4a0d-d5cb-e88a2b604f02"
   },
   "outputs": [],
   "source": [
    "import matplotlib.pyplot as plt\n",
    "import seaborn as sb\n",
    "bxplt = sb.boxplot(df[\"target\"],df[\"chol\"])\n",
    "plt.show()"
   ]
  },
  {
   "cell_type": "code",
   "execution_count": null,
   "metadata": {
    "colab": {
     "base_uri": "https://localhost:8080/",
     "height": 297
    },
    "id": "KOHYZbeG95a-",
    "outputId": "2d008e86-e408-448e-dbc7-808ba9c3c771"
   },
   "outputs": [],
   "source": [
    "sb.boxplot(x='target', y='oldpeak', data=df)"
   ]
  },
  {
   "cell_type": "code",
   "execution_count": null,
   "metadata": {
    "colab": {
     "base_uri": "https://localhost:8080/"
    },
    "id": "f9YAsdz--ENn",
    "outputId": "de1426c0-a64a-4569-dda8-bbf2f688644d"
   },
   "outputs": [],
   "source": [
    "# define continuous variable & plot\n",
    "continous_features = ['age','trestbps','chol','thalach','oldpeak']  \n",
    "def outliers(df_out, drop = False):\n",
    "    for each_feature in df_out.columns:\n",
    "        feature_data = df_out[each_feature]\n",
    "        Q1 = np.percentile(feature_data, 25.) # 25th percentile of the data of the given feature\n",
    "        Q3 = np.percentile(feature_data, 75.) # 75th percentile of the data of the given feature\n",
    "        IQR = Q3-Q1 #Interquartile Range\n",
    "        outlier_step = IQR * 1.5 #That's we were talking about above\n",
    "        outliers = feature_data[~((feature_data >= Q1 - outlier_step) & (feature_data <= Q3 + outlier_step))].index.tolist()  \n",
    "        if not drop:\n",
    "            print('For the feature {}, No of Outliers is {}'.format(each_feature, len(outliers)))\n",
    "        if drop:\n",
    "            df.drop(outliers, inplace = True, errors = 'ignore')\n",
    "            print('Outliers from {} feature removed'.format(each_feature))\n",
    "\n",
    "outliers(df[continous_features])"
   ]
  },
  {
   "cell_type": "markdown",
   "metadata": {
    "id": "AJUW4Cpr-ioT"
   },
   "source": [
    "**Drop Outliers**"
   ]
  },
  {
   "cell_type": "code",
   "execution_count": null,
   "metadata": {
    "colab": {
     "base_uri": "https://localhost:8080/"
    },
    "id": "fo7LziFd-mxi",
    "outputId": "019f6001-6ec5-49b8-a257-f2793583c3b4"
   },
   "outputs": [],
   "source": [
    "outliers(df[continous_features],drop=True)"
   ]
  },
  {
   "cell_type": "code",
   "execution_count": null,
   "metadata": {
    "id": "WYka9RT998GO"
   },
   "outputs": [],
   "source": []
  },
  {
   "cell_type": "code",
   "execution_count": null,
   "metadata": {
    "colab": {
     "base_uri": "https://localhost:8080/"
    },
    "id": "NML9WrhF2ZC9",
    "outputId": "93045ac0-8e81-4b3e-81b8-b5ba22e973cc"
   },
   "outputs": [],
   "source": []
  }
 ],
 "metadata": {
  "colab": {
   "name": "heart.ipynb",
   "provenance": []
  },
  "kernelspec": {
   "display_name": "Python 3 (ipykernel)",
   "language": "python",
   "name": "python3"
  },
  "language_info": {
   "codemirror_mode": {
    "name": "ipython",
    "version": 3
   },
   "file_extension": ".py",
   "mimetype": "text/x-python",
   "name": "python",
   "nbconvert_exporter": "python",
   "pygments_lexer": "ipython3",
   "version": "3.10.4"
  }
 },
 "nbformat": 4,
 "nbformat_minor": 1
}
